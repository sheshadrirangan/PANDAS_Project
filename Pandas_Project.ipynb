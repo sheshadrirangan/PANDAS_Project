{
 "cells": [
  {
   "cell_type": "markdown",
   "metadata": {},
   "source": [
    "## Python Project"
   ]
  },
  {
   "cell_type": "markdown",
   "metadata": {},
   "source": [
    "### 1. Write a program in Python with one class called Cipher. Within the constructor of this class, ask user for a string and store it. Use a static variable, key to store a randomly generated integer between 1 and 50 inclusive. Implement two methods, encrypt and decrypt within this class. Encrypt generates and prints a cipher text using the user-entered string and the key and decrypt generates decrypted string from ciphertext. The cipher only encrypts alpha and numeric (A-Z, a-z, 0-9). All Symbols, such as - , ; %, remain unencrypted. The cipher text can have special characters. Use generator expression to filter out alpha and numeric characters of the input string and to generate cipher text. Create an instance of this class, encrypt and decrypt back the user entered string."
   ]
  },
  {
   "cell_type": "code",
   "execution_count": 1,
   "metadata": {},
   "outputs": [],
   "source": [
    "import numpy as np"
   ]
  },
  {
   "cell_type": "code",
   "execution_count": 2,
   "metadata": {},
   "outputs": [
    {
     "name": "stdout",
     "output_type": "stream",
     "text": [
      "Please enter the string: Hello, Welcome-to;Acadgild%123\n",
      "Key is:  45\n",
      "Encrypted message:  Axeeh, Pxevhfx-mh;Tvtwzbew%678\n",
      "Decrypted message:  Hello, Welcome-to;Acadgild%123\n"
     ]
    }
   ],
   "source": [
    "class Cipher:\n",
    "    key = np.random.randint(1,51)\n",
    "    \n",
    "    def __init__(self):\n",
    "        self.text = input(\"Please enter the string: \")\n",
    "        \n",
    "    def encrypt(self):\n",
    "        cipher = ''\n",
    "        for char in self.text:\n",
    "            if char in [' ','-',';',',','%']:\n",
    "                cipher = cipher + char\n",
    "            elif  char.isalpha():\n",
    "                if char.isupper():\n",
    "                    cipher = cipher + chr((ord(char) + Cipher.key - 65) % 26 + 65)\n",
    "                elif char.islower():\n",
    "                    cipher = cipher + chr((ord(char) + Cipher.key - 97) % 26 + 97)\n",
    "            elif char.isnumeric():\n",
    "                cipher = cipher + chr((ord(char) + Cipher.key - 48) % 10 + 48)\n",
    "        return cipher\n",
    "    \n",
    "    def decrypt(self, t):\n",
    "        cipher = ''\n",
    "        for char in t:\n",
    "            if char in [' ','-',';',',','%']:\n",
    "                cipher = cipher + char\n",
    "            elif  char.isalpha():\n",
    "                if char.isupper():\n",
    "                    cipher = cipher + chr((ord(char) - Cipher.key - 65) % 26 + 65)\n",
    "                elif char.islower():\n",
    "                    cipher = cipher + chr((ord(char) - Cipher.key - 97) % 26 + 97)\n",
    "            elif char.isnumeric():\n",
    "                cipher = cipher + chr((ord(char) - Cipher.key - 48) % 10 + 48)\n",
    "        return cipher\n",
    "        \n",
    "c = Cipher()\n",
    "print(\"Key is: \",c.key)\n",
    "e = c.encrypt()\n",
    "print(\"Encrypted message: \",e)\n",
    "d = c.decrypt(e)\n",
    "print(\"Decrypted message: \",d)"
   ]
  },
  {
   "cell_type": "code",
   "execution_count": 3,
   "metadata": {},
   "outputs": [
    {
     "name": "stdout",
     "output_type": "stream",
     "text": [
      "Please enter the string: Hello, Welcome-to;Acadgild%123\n",
      "Key is:  48\n",
      "Encrypted message:  Lipps, Aipgsqi-xs;Egehkmph%345\n",
      "Decrypted message:  Hello, Welcome-to;Acadgild%123\n"
     ]
    }
   ],
   "source": [
    "class Cipher:\n",
    "    key = np.random.randint(1,51)\n",
    "    \n",
    "    def __init__(self):\n",
    "        self.text = input(\"Please enter the string: \")\n",
    "        \n",
    "    def encrypt(self):\n",
    "        cipher = ''\n",
    "        return (char if char in [' ','-',';',',','%'] \n",
    "                else chr(((ord(char) - 65 - Cipher.key) % 26) + 65) if char.isalpha() and char.isupper()\n",
    "                else chr(((ord(char) - 97 - Cipher.key) % 26) + 97) if char.isalpha() and char.islower() \n",
    "                else chr(((ord(char) - 48 - Cipher.key) % 10) + 48) if char.isnumeric()\n",
    "                else char for char in self.text)\n",
    "    \n",
    "    def decrypt(self, text): \n",
    "        return (char if char in [' ','-',';',',','%'] \n",
    "                else chr(((ord(char) - 65 + Cipher.key) % 26) + 65) if char.isalpha() and char.isupper() \n",
    "                else chr(((ord(char) - 97 + Cipher.key) % 26) + 97) if char.isalpha() and char.islower()\n",
    "                else chr(((ord(char) - 48 + Cipher.key) % 10) + 48) if char.isnumeric()\n",
    "                else char for char in text)\n",
    "        \n",
    "c = Cipher()\n",
    "print(\"Key is: \", c.key)\n",
    "e = c.encrypt()\n",
    "a = ''.join([x1 for x in e for x1 in x])\n",
    "print(\"Encrypted message: \",a)\n",
    "d = c.decrypt(a)\n",
    "print(\"Decrypted message: \", ''.join([y1 for y in d for y1 in y]))"
   ]
  },
  {
   "cell_type": "code",
   "execution_count": 4,
   "metadata": {},
   "outputs": [
    {
     "name": "stdout",
     "output_type": "stream",
     "text": [
      "Please enter the string: Hello, Welcome-to;Acadgild%123\n",
      "Key is:  25\n",
      "Encrypted message:  Gdkkn, Vdkbnld-sn;Zbzcfhkc%678\n",
      "Decrypted message:  Hello, Welcome-to;Acadgild%123\n"
     ]
    }
   ],
   "source": [
    "class Cipher:\n",
    "    key = np.random.randint(1,51)\n",
    "    \n",
    "    def __init__(self):\n",
    "        self.text = input(\"Please enter the string: \")\n",
    "        self.encrypt_text = \"\"\n",
    "        self.decrypt_text = \"\"\n",
    "        \n",
    "    def encrypt(self):\n",
    "        encrypt_lst = []\n",
    "        val = self.cipher_algo(self.text, Cipher.key)\n",
    "        for i in val:\n",
    "            encrypt_lst.append(i)\n",
    "        self.encrypt_text = \"\".join(encrypt_lst)\n",
    "        \n",
    "    def decrypt(self):\n",
    "        decrypt_lst = []\n",
    "        val = self.cipher_algo(self.encrypt_text, -Cipher.key)\n",
    "        for i in val:\n",
    "            decrypt_lst.append(i)\n",
    "        self.decrypt_text = \"\".join(decrypt_lst)\n",
    "        \n",
    "    def cipher_algo(self, input_str, key):\n",
    "        for char in input_str:\n",
    "            if char.isalpha():\n",
    "                if char.isupper():\n",
    "                    yield chr(((ord(char) - 65 + key) % 26) + 65)\n",
    "                elif char.islower():\n",
    "                    yield chr(((ord(char) - 97 + key) % 26) + 97)\n",
    "            elif char.isnumeric():\n",
    "                yield chr(((ord(char) - 48 + key) % 10) + 48)\n",
    "            else:\n",
    "                yield char\n",
    "                \n",
    "c = Cipher()\n",
    "print(\"Key is: \", c.key)\n",
    "c.encrypt()\n",
    "print(\"Encrypted message: \", c.encrypt_text)\n",
    "c.decrypt()\n",
    "print(\"Decrypted message: \", c.decrypt_text)"
   ]
  },
  {
   "cell_type": "code",
   "execution_count": null,
   "metadata": {},
   "outputs": [],
   "source": []
  }
 ],
 "metadata": {
  "kernelspec": {
   "display_name": "Python 3",
   "language": "python",
   "name": "python3"
  },
  "language_info": {
   "codemirror_mode": {
    "name": "ipython",
    "version": 3
   },
   "file_extension": ".py",
   "mimetype": "text/x-python",
   "name": "python",
   "nbconvert_exporter": "python",
   "pygments_lexer": "ipython3",
   "version": "3.7.0"
  }
 },
 "nbformat": 4,
 "nbformat_minor": 2
}
